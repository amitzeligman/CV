{
 "cells": [
  {
   "cell_type": "markdown",
   "metadata": {},
   "source": [
    "# MNIST Digits Classification using Neural Networks\n",
    "\n"
   ]
  },
  {
   "cell_type": "markdown",
   "metadata": {},
   "source": [
    "download & load the MNIST dataset.\n",
    "\n",
    "the data should be downloaded and saved to 'data/mnist.pkl' in the same directory as this notebook.\n",
    "\n",
    "*just run the next two cells and observe the outputs (shift&enter) "
   ]
  },
  {
   "cell_type": "code",
   "execution_count": 48,
   "metadata": {},
   "outputs": [
    {
     "name": "stdout",
     "output_type": "stream",
     "text": [
      "the training data set contains 60000 samples\n",
      "each sample image from the training data set is a column-stacked grayscale image of 784 pixels\n",
      " this vectorized arrangement of the data is suitable for a Fully-Connected NN (as apposed to a Convolutional NN)\n",
      "these column-stacked images can be reshaped to an image of (28, 28) pixels\n"
     ]
    },
    {
     "data": {
      "image/png": "[encoded data removed]",
      "text/plain": [
       "<Figure size 432x288 with 1 Axes>"
      ]
     },
     "metadata": {
      "needs_background": "light"
     },
     "output_type": "display_data"
    }
   ],
   "source": [
    "\n",
    "#importing modules that will be in use\n",
    "%matplotlib inline\n",
    "import os\n",
    "import numpy as np\n",
    "import matplotlib.pyplot as plt\n",
    "import urllib.request\n",
    "import gzip\n",
    "import pickle\n",
    "from PIL import Image\n",
    "import random\n",
    "import numpy as np\n",
    "\n",
    "def _download(file_name):\n",
    "    file_path = dataset_dir + \"/\" + file_name\n",
    "    if os.path.exists(file_path):\n",
    "        return\n",
    "\n",
    "    print(\"Downloading \" + file_name + \" ... \")\n",
    "    urllib.request.urlretrieve(url_base + file_name, file_path)\n",
    "    print(\"Done\")\n",
    "\n",
    "def download_mnist():\n",
    "    os.mkdir(dataset_dir)       \n",
    "    for v in key_file.values():\n",
    "       _download(v)\n",
    "\n",
    "def _load_label(file_name):\n",
    "    file_path = dataset_dir + \"/\" + file_name\n",
    "\n",
    "    print(\"Converting \" + file_name + \" to NumPy Array ...\")\n",
    "    with gzip.open(file_path, 'rb') as f:\n",
    "            labels = np.frombuffer(f.read(), np.uint8, offset=8)\n",
    "    print(\"Done\")\n",
    "\n",
    "    return labels\n",
    "\n",
    "def _load_img(file_name):\n",
    "    file_path = dataset_dir + \"/\" + file_name\n",
    "\n",
    "    print(\"Converting \" + file_name + \" to NumPy Array ...\")\n",
    "    with gzip.open(file_path, 'rb') as f:\n",
    "            data = np.frombuffer(f.read(), np.uint8, offset=16)\n",
    "    data = data.reshape(-1, img_size)\n",
    "    print(\"Done\")\n",
    "\n",
    "    return data\n",
    "\n",
    "def _convert_numpy():\n",
    "    dataset = {}\n",
    "    dataset['train_img'] =  _load_img(key_file['train_img'])\n",
    "    dataset['train_label'] = _load_label(key_file['train_label'])\n",
    "    dataset['test_img'] = _load_img(key_file['test_img'])\n",
    "    dataset['test_label'] = _load_label(key_file['test_label'])\n",
    "\n",
    "    return dataset\n",
    "\n",
    "def init_mnist():\n",
    "    download_mnist()\n",
    "    dataset = _convert_numpy()\n",
    "    print(\"Creating pickle file ...\")\n",
    "    with open(save_file, 'wb') as f:\n",
    "        pickle.dump(dataset, f, -1)\n",
    "    print(\"Done\")\n",
    "\n",
    "def _change_one_hot_label(X):\n",
    "    T = np.zeros((X.size, 10))\n",
    "    for idx, row in enumerate(T):\n",
    "        row[X[idx]] = 1\n",
    "\n",
    "    return T\n",
    "\n",
    "def load_mnist(normalize=True, flatten=True, one_hot_label=False):\n",
    "    \"\"\"\n",
    "    Parameters\n",
    "    ----------\n",
    "    normalize : Normalize the pixel values\n",
    "    flatten : Flatten the images as one array\n",
    "    one_hot_label : Encode the labels as a one-hot array\n",
    "\n",
    "    Returns\n",
    "    -------\n",
    "    (Trainig Image, Training Label), (Test Image, Test Label)\n",
    "    \"\"\"\n",
    "    if not os.path.exists(save_file):\n",
    "        init_mnist()\n",
    "\n",
    "    with open(save_file, 'rb') as f:\n",
    "        dataset = pickle.load(f)\n",
    "\n",
    "    if normalize:\n",
    "        for key in ('train_img', 'test_img'):\n",
    "            dataset[key] = dataset[key].astype(np.float32)\n",
    "            dataset[key] /= 255.0\n",
    "\n",
    "    if not flatten:\n",
    "         for key in ('train_img', 'test_img'):\n",
    "            dataset[key] = dataset[key].reshape(-1, 1, 28, 28)\n",
    "\n",
    "    if one_hot_label:\n",
    "        dataset['train_label'] = _change_one_hot_label(dataset['train_label'])\n",
    "        dataset['test_label'] = _change_one_hot_label(dataset['test_label'])\n",
    "\n",
    "    return (dataset['train_img'], dataset['train_label']), (dataset['test_img'], dataset['test_label'])\n",
    "\n",
    "\n",
    "# Load the MNIST dataset\n",
    "url_base = 'http://yann.lecun.com/exdb/mnist/'\n",
    "key_file = {\n",
    "    'train_img':'train-images-idx3-ubyte.gz',\n",
    "    'train_label':'train-labels-idx1-ubyte.gz',\n",
    "    'test_img':'t10k-images-idx3-ubyte.gz',\n",
    "    'test_label':'t10k-labels-idx1-ubyte.gz'\n",
    "}\n",
    "\n",
    "# dataset_dir = os.path.dirname(os.path.abspath(__file__))\n",
    "\n",
    "dataset_dir = \"data\"\n",
    "save_file = dataset_dir + \"/mnist.pkl\"\n",
    "\n",
    "train_num = 60000\n",
    "test_num = 10000\n",
    "img_dim = (1, 28, 28)\n",
    "img_size = 784\n",
    "\n",
    "(x_train, t_train), (x_test, t_test) = load_mnist(normalize=True, flatten=True)\n",
    "\n",
    "\n",
    "# printing data shape\n",
    "\n",
    "print('the training data set contains '+ str(x_train.shape[0]) + ' samples')\n",
    "\n",
    "img = x_train[0]\n",
    "label = t_train[0]\n",
    "\n",
    "img = img.reshape(28, 28)\n",
    "print('each sample image from the training data set is a column-stacked grayscale image of '+ str(x_train.shape[1]) +' pixels'\n",
    "      + '\\n this vectorized arrangement of the data is suitable for a Fully-Connected NN (as apposed to a Convolutional NN)' )\n",
    "print('these column-stacked images can be reshaped to an image of ' +str(img.shape)+ ' pixels')\n",
    "\n",
    "# printing a sample from the dataset\n",
    "\n",
    "plt.imshow(img, cmap='gray')\n",
    "plt.axis('off')\n",
    "plt.title('The ground truth label of this image is '+str(label))\n",
    "plt.show()"
   ]
  },
  {
   "cell_type": "code",
   "execution_count": 49,
   "metadata": {},
   "outputs": [
    {
     "data": {
      "image/png": "[encoded data removed]",
      "text/plain": [
       "<Figure size 432x288 with 70 Axes>"
      ]
     },
     "metadata": {
      "needs_background": "light"
     },
     "output_type": "display_data"
    }
   ],
   "source": [
    "# Visualize some examples from the dataset.\n",
    "# We'll show a few examples of training images from each class.\n",
    "num_classes = 10\n",
    "samples_per_class = 7\n",
    "for cls in range(num_classes):\n",
    "    idxs = np.argwhere(t_train==cls)\n",
    "    sample = np.random.choice(idxs.shape[0], samples_per_class, replace=False) # randomly picks 7 from the appearences \n",
    "    idxs=idxs[sample]\n",
    "\n",
    "    for i, idx in enumerate(idxs):\n",
    "        plt_idx = i * num_classes + cls + 1\n",
    "        plt.subplot(samples_per_class, num_classes, plt_idx)\n",
    "        img = x_train[idx].reshape(28, 28)\n",
    "\n",
    "        plt.imshow(img, cmap='gray')\n",
    "        plt.axis('off')\n",
    "        if i == 0:\n",
    "            plt.title(cls)\n",
    "plt.show()"
   ]
  },
  {
   "cell_type": "markdown",
   "metadata": {},
   "source": [
    "QUESTION 1:What are vanishing gradients? Name one known activation function that has this problem and one that does not.\n",
    "\n",
    "ANSWER:\n",
    "\n",
    "Vanishing grdinents are gradients which tends to saturates to zero due to the characteristic of the activation function. This phenomenon accures when the activations has a very week steep in big (or small) values. \n",
    "\n",
    "Sigmoid - Has vanisihing gradients ( when the input values are very big or small).\n",
    "Leaky Relu - Don't have that problem.\n",
    "\n",
    "\n",
    "\n",
    "\n",
    "\n"
   ]
  },
  {
   "cell_type": "markdown",
   "metadata": {},
   "source": [
    "here we will implement the sigmoid activation function and it's gradient "
   ]
  },
  {
   "cell_type": "code",
   "execution_count": 50,
   "metadata": {},
   "outputs": [],
   "source": [
    "\n",
    "def sigmoid(x):\n",
    "    #############################################################################\n",
    "    #                             YOUR CODE                                     #\n",
    "    #############################################################################   \n",
    "    sig = 1 / (1 + np.exp(-x))\n",
    "    \n",
    "    ############################################################################\n",
    "    #                             END OF YOUR CODE                             #\n",
    "    ############################################################################\n",
    "    return sig\n",
    "def sigmoid_grad(x):\n",
    "    #############################################################################\n",
    "    #                             YOUR CODE                                     #\n",
    "    #############################################################################   \n",
    "    sig_grad = np.multiply(sigmoid(x),(1-sigmoid(x)))\n",
    "    \n",
    "    ############################################################################\n",
    "    #                             END OF YOUR CODE                             #\n",
    "    ############################################################################\n",
    "    return sig_grad\n"
   ]
  },
  {
   "cell_type": "markdown",
   "metadata": {},
   "source": [
    "Implement a fully-vectorized loss function for the Softmax classifier\n",
    "Make sure the softmax is stable.\n",
    "To make our softmax function numerically stable,we simply normalize the values in the vector, \n",
    "by multiplying the numerator and denominator with a constant C.\n",
    "We can choose an arbitrary value for log(C) term, but generally log(C)=−max(a) is chosen, as it shifts all of elements in the vector to negative to zero, and negatives with large exponents saturate to zero rather than the infinity."
   ]
  },
  {
   "cell_type": "code",
   "execution_count": 51,
   "metadata": {},
   "outputs": [],
   "source": [
    "def softmax(x):\n",
    "    \"\"\"\n",
    "  Softmax loss function, should be implemented in a vectorized fashion (without loops)\n",
    "\n",
    "\n",
    "  Inputs:\n",
    "  - X: A numpy array of shape (N, C) containing a minibatch of data.\n",
    "  Returns:\n",
    "  - probabilities: A numpy array of shape (N, C) containing the softmax probabilities.\n",
    "\n",
    "  if you are not careful here, it is easy to run into numeric instability\n",
    "     \"\"\"\n",
    "    #############################################################################\n",
    "    #                             YOUR CODE                                     #\n",
    "    #############################################################################  \n",
    "    exps = np.exp(x - np.expand_dims(np.max(x, axis=1), axis=1))\n",
    "    probabilities = exps / np.expand_dims(np.sum(exps, axis=1), axis=1)\n",
    "    ############################################################################\n",
    "    #                             END OF YOUR CODE                             #\n",
    "    ############################################################################\n",
    "    return probabilities\n",
    "\n",
    "def cross_entropy_error(y, t):\n",
    "    \"\"\"\n",
    "    Inputs:\n",
    "\n",
    "    - t:  A numpy array of shape (N,C) containing  a minibatch of training labels, it is a one-hot array, \n",
    "      with t[GT]=1 and t=0 elsewhere, where GT is the ground truth label ; \n",
    "    - y: A numpy array of shape (N, C) containing the softmax probabilities (the NN's output).\n",
    "\n",
    "    Returns a tuple of:\n",
    "    - loss as single float (do not forget to divide by the number of samples in the minibatch (N))\n",
    "    \"\"\"\n",
    "    #############################################################################\n",
    "    #                             YOUR CODE                                     #\n",
    "    #############################################################################   \n",
    "    # Compute loss \n",
    "    N = np.shape(y)[0]\n",
    "    error = - 1 / N * np.sum(np.log(y[np.nonzero(t)]))\n",
    "\n",
    "    ############################################################################\n",
    "    #                             END OF YOUR CODE                             #\n",
    "    ############################################################################\n",
    "    return error"
   ]
  },
  {
   "cell_type": "markdown",
   "metadata": {},
   "source": [
    "We will design and train a two-layer fully-connected neural network with sigmoid nonlinearity and\n",
    "softmax cross entropy loss. We assume an input dimension of D=784, a hidden dimension of H, and perform classification over C classes.\n",
    "\n",
    "The architecture should be fullyconnected -> sigmoid -> fullyconnected -> softmax.\n",
    "\n",
    "The learnable parameters of the model are stored in the dictionary,\n",
    "'params', that maps parameter names to numpy arrays.\n",
    "\n",
    "In the next cell we will initialize the weights and biases, design the fully connected(fc) forward and backward functions that will be in use for the training (using SGD).\n",
    "\n"
   ]
  },
  {
   "cell_type": "code",
   "execution_count": 52,
   "metadata": {},
   "outputs": [],
   "source": [
    "def TwoLayerNet( input_size, hidden_size, output_size, weight_init_std=0.01):\n",
    "    ############################################################################\n",
    "    # TODO: Initialize the weights and biases of the two-layer net. Weights    #\n",
    "    # should be initialized from a Gaussian with standard deviation equal to   #\n",
    "    # weight_init_std, and biases should be initialized to zero. All weights and  #\n",
    "    # biases should be stored in the dictionary 'params', with first layer  #\n",
    "    # weights and biases using the keys 'W1' and 'b1' and second layer weights #\n",
    "    # and biases using the keys 'W2' and 'b2'.                                 #\n",
    "    ############################################################################\n",
    "    \n",
    "    params = dict()\n",
    "    params['W1'] = np.random.normal(0,weight_init_std,size=[input_size,hidden_size])\n",
    "    params['W2'] = np.random.normal(0,weight_init_std,size=[hidden_size,output_size])\n",
    "    params['b1'] = np.zeros(shape=[hidden_size])\n",
    "    params['b2'] = np.zeros(shape=[output_size])\n",
    "    ############################################################################\n",
    "    #                             END OF YOUR CODE                             #\n",
    "    ############################################################################\n",
    "    return params\n",
    "\n",
    "\n",
    "def FC_forward(x, w, b):\n",
    "    \"\"\"\n",
    "    Computes the forward pass for a fully-connected layer.\n",
    "    The input x has shape (N, D) and contains a minibatch of N\n",
    "    examples, where each example x[i] has shape D and will be transformed to an output vector of dimension M.\n",
    "    Inputs:\n",
    "    - x: A numpy array containing input data, of shape (N, D)\n",
    "    - w: A numpy array of weights, of shape (D, M)\n",
    "    - b: A numpy array of biases, of shape (M,)\n",
    "\n",
    "    Returns a tuple of:\n",
    "    - out: output result of the forward pass, of shape (N, M)\n",
    "    - cache: (x, w, b)\n",
    "    \"\"\"\n",
    "    out = None\n",
    "    #############################################################################\n",
    "    #                             YOUR CODE                                     #\n",
    "    #############################################################################   \n",
    "    N = np.shape(x)[0]\n",
    "    out = np.matmul(x, w) + np.tile(b,[N, 1])\n",
    "    #############################################################################\n",
    "    #                             END OF YOUR CODE                              #\n",
    "    #############################################################################\n",
    "    cache = (x, w, b)\n",
    "    return out, cache\n",
    "\n",
    "\n",
    "\n",
    "def FC_backward(dout, cache):\n",
    "    \"\"\"\n",
    "    Computes the backward pass for a fully-connected layer.\n",
    "    Inputs:\n",
    "    - dout: Upstream derivative, of shape (N, M)\n",
    "    - cache: Tuple of:\n",
    "    - w: Weights, of shape (D, M)\n",
    "    Returns a tuple of:\n",
    "    - dx: Gradient with respect to x, of shape (N, D)\n",
    "    - dw: Gradient with respect to w, of shape (D, M)\n",
    "    - db: Gradient with respect to b, of shape (M,)\n",
    "    \"\"\"\n",
    "    x, w, b = cache\n",
    "    dx, dw, db = None, None, None\n",
    "    \n",
    "    #############################################################################\n",
    "    #                             YOUR CODE                                     #\n",
    "    #############################################################################   \n",
    "    N = np.shape(dout)[0]\n",
    "    dx = np.matmul(dout, np.transpose(w)) \n",
    "    dw = np.matmul(np.transpose(x), dout) \n",
    "    db = np.matmul(np.transpose(dout), np.ones(shape=N)) \n",
    "    \n",
    "    #############################################################################\n",
    "    #                             END OF YOUR CODE                              #\n",
    "    #############################################################################\n",
    "    return dx, dw, db\n",
    "\n"
   ]
  },
  {
   "cell_type": "markdown",
   "metadata": {},
   "source": [
    "Here we will design the entire model, which outputs the NN's probabilities and gradients.\n"
   ]
  },
  {
   "cell_type": "code",
   "execution_count": 57,
   "metadata": {},
   "outputs": [],
   "source": [
    "def Model(params, x, t):\n",
    "    \"\"\"\n",
    "    Computes the backward pass for a fully-connected layer.\n",
    "    Inputs:\n",
    "    - params:  dictionary with first layer weights and biases using the keys 'W1' and 'b1' and second layer weights\n",
    "    and biases using the keys 'W2' and 'b2'. each with dimensions corresponding its input and output dimensions.  \n",
    "    - x: Input data, of shape (N,D)\n",
    "    - t:  A numpy array of shape (N,C) containing training labels, it is a one-hot array, \n",
    "      with t[GT]=1 and t=0 elsewhere, where GT is the ground truth label ; \n",
    "    Returns:\n",
    "    - y: the output probabilities for the minibatch (at the end of the forward pass) of shape (N,C)\n",
    "    - grads: dictionary containing gradients of the loss with respect to W1, W2, b1, b2.\n",
    "    \n",
    "    note: use the FC_forward ,FC_backward functions.\n",
    "\n",
    "    \"\"\"\n",
    "    W1, W2 = params['W1'], params['W2']\n",
    "    b1, b2 = params['b1'], params['b2']\n",
    "    grads = {'W1': None ,'W2': None, 'b1': None ,'b2': None }\n",
    "\n",
    "    batch_num = x.shape[0]\n",
    "\n",
    "    #############################################################################\n",
    "    #                             YOUR CODE                                     #\n",
    "    #############################################################################   \n",
    "    # forward (fullyconnected -> sigmoid -> fullyconnected -> softmax).\n",
    "    \n",
    "    y_1, cache1 = FC_forward(x, W1, b1)\n",
    "    y_1_sig = sigmoid(y_1)\n",
    "    y_2, cache2 = FC_forward(y_1_sig, W2, b2)\n",
    "    y = softmax(y_2)\n",
    "    \n",
    "\n",
    "\n",
    "    # backward - calculate gradients\n",
    "    \n",
    "    dout = y-t\n",
    "\n",
    "    dy_1_sig, dw_2, db_2 = FC_backward(dout, cache2)\n",
    "\n",
    "    grads['W2'] = dw_2\n",
    "    grads['b2'] = db_2\n",
    "\n",
    "    dx, dw_1, db_1 = FC_backward(dy_1_sig * sigmoid_grad(y_1), cache1)\n",
    "\n",
    "    grads['W1'] = dw_1\n",
    "    grads['b1'] = db_1\n",
    "\n",
    "\n",
    "    #############################################################################\n",
    "    #                             END OF YOUR CODE                              #\n",
    "    #############################################################################\n",
    "    \n",
    "    return grads, y"
   ]
  },
  {
   "cell_type": "markdown",
   "metadata": {},
   "source": [
    "Compute the accuracy of the NNs predictions.\n"
   ]
  },
  {
   "cell_type": "code",
   "execution_count": 54,
   "metadata": {},
   "outputs": [],
   "source": [
    "\n",
    "\n",
    "def accuracy(y,t):\n",
    "    \"\"\"\n",
    "    Computes the accuracy of the NN's predictions.\n",
    "    Inputs:\n",
    "    - t:  A numpy array of shape (N,C) containing training labels, it is a one-hot array, \n",
    "      with t[GT]=1 and t=0 elsewhere, where GT is the ground truth label ; \n",
    "    - y: the output probabilities for the minibatch (at the end of the forward pass) of shape (N,C)\n",
    "    Returns:\n",
    "    - accuracy: a single float of the average accuracy.\n",
    "    \"\"\"\n",
    "    #############################################################################\n",
    "    #                             YOUR CODE                                     #\n",
    "    #############################################################################   \n",
    "    N = np.shape(y)[0]\n",
    "    y_max = np.argmax(y, axis=1)\n",
    "    accuracy = 1 / N * np.sum(y_max == np.nonzero(t)[1]) * 100\n",
    "    \n",
    "    #############################################################################\n",
    "    #                             END OF YOUR CODE                              #\n",
    "    #############################################################################    \n",
    "    return accuracy\n",
    "\n"
   ]
  },
  {
   "cell_type": "markdown",
   "metadata": {},
   "source": [
    "Trianing the model:\n",
    "To train our network we will use minibatch SGD.  \n",
    "*Note that the test dataset is actually used as the validation dataset in the training"
   ]
  },
  {
   "cell_type": "code",
   "execution_count": 60,
   "metadata": {},
   "outputs": [
    {
     "name": "stdout",
     "output_type": "stream",
     "text": [
      "training of 100 epochs, each epoch will have 600 iterations\n",
      "train acc: 56.35% |  test acc: 85.00000000000001% |  loss for epoch 0: 1.397475100134441\n",
      "train acc: 86.86% |  test acc: 89.15% |  loss for epoch 1: 0.488507689422698\n",
      "train acc: 89.53% |  test acc: 90.36000000000001% |  loss for epoch 2: 0.3786289678121766\n",
      "train acc: 90.27% |  test acc: 90.97000000000001% |  loss for epoch 3: 0.34021411140126806\n",
      "train acc: 90.81% |  test acc: 91.41% |  loss for epoch 4: 0.318799108835001\n",
      "train acc: 91.14% |  test acc: 91.73% |  loss for epoch 5: 0.3076197619129359\n",
      "train acc: 91.64% |  test acc: 91.96000000000001% |  loss for epoch 6: 0.28853372325348126\n",
      "train acc: 92.03% |  test acc: 92.22% |  loss for epoch 7: 0.2765917763577214\n",
      "train acc: 92.28% |  test acc: 92.54% |  loss for epoch 8: 0.26858282781330617\n",
      "train acc: 92.18% |  test acc: 92.46000000000001% |  loss for epoch 9: 0.2689262440843733\n",
      "train acc: 92.63% |  test acc: 92.98% |  loss for epoch 10: 0.25397855014700466\n",
      "train acc: 92.95% |  test acc: 93.01% |  loss for epoch 11: 0.24289793427852402\n",
      "train acc: 93.08% |  test acc: 93.19000000000001% |  loss for epoch 12: 0.24036539815084818\n",
      "train acc: 93.38% |  test acc: 93.42% |  loss for epoch 13: 0.23185374674771286\n",
      "train acc: 93.56% |  test acc: 93.65% |  loss for epoch 14: 0.22691435253888453\n",
      "train acc: 93.66% |  test acc: 93.81% |  loss for epoch 15: 0.22041695424440708\n",
      "train acc: 93.99% |  test acc: 93.81% |  loss for epoch 16: 0.21029920124981027\n",
      "train acc: 94.20% |  test acc: 94.10000000000001% |  loss for epoch 17: 0.20620311271790628\n",
      "train acc: 94.29% |  test acc: 94.21000000000001% |  loss for epoch 18: 0.20187808880044153\n",
      "train acc: 94.7% |  test acc: 94.49000000000001% |  loss for epoch 19: 0.18827151944010198\n",
      "train acc: 94.56% |  test acc: 94.61% |  loss for epoch 20: 0.18796362556806365\n",
      "train acc: 94.97% |  test acc: 94.5% |  loss for epoch 21: 0.18082606557663472\n",
      "train acc: 94.91% |  test acc: 94.92% |  loss for epoch 22: 0.1801172170509469\n",
      "train acc: 95.11% |  test acc: 95.04% |  loss for epoch 23: 0.170783056301518\n",
      "train acc: 95.31% |  test acc: 95.04% |  loss for epoch 24: 0.1649547857457376\n",
      "train acc: 95.38% |  test acc: 94.99000000000001% |  loss for epoch 25: 0.15857247942895153\n",
      "train acc: 95.47% |  test acc: 95.28000000000002% |  loss for epoch 26: 0.16087385648315197\n",
      "train acc: 95.73% |  test acc: 95.27% |  loss for epoch 27: 0.1500664499142931\n",
      "train acc: 95.75% |  test acc: 95.54% |  loss for epoch 28: 0.14753458158043686\n",
      "train acc: 95.78% |  test acc: 95.61% |  loss for epoch 29: 0.1474361095481276\n",
      "train acc: 95.91% |  test acc: 95.69000000000001% |  loss for epoch 30: 0.139869149275662\n",
      "train acc: 96.10% |  test acc: 95.71000000000001% |  loss for epoch 31: 0.1355875148690882\n",
      "train acc: 96.15% |  test acc: 95.85000000000001% |  loss for epoch 32: 0.13702421037718437\n",
      "train acc: 96.17% |  test acc: 95.95% |  loss for epoch 33: 0.1323716694147643\n",
      "train acc: 96.26% |  test acc: 95.98% |  loss for epoch 34: 0.1315126225810407\n",
      "train acc: 96.47% |  test acc: 96.13000000000001% |  loss for epoch 35: 0.12274971883618159\n",
      "train acc: 96.37% |  test acc: 96.11000000000001% |  loss for epoch 36: 0.1277994618481146\n",
      "train acc: 96.74% |  test acc: 96.15% |  loss for epoch 37: 0.11761030202689113\n",
      "train acc: 96.72% |  test acc: 96.23% |  loss for epoch 38: 0.11799556551514252\n",
      "train acc: 96.63% |  test acc: 96.36% |  loss for epoch 39: 0.11839581645718951\n",
      "train acc: 96.80% |  test acc: 96.38000000000001% |  loss for epoch 40: 0.11527772162650218\n",
      "train acc: 96.76% |  test acc: 96.38000000000001% |  loss for epoch 41: 0.11453596137541389\n",
      "train acc: 96.95% |  test acc: 96.51% |  loss for epoch 42: 0.1093706671517269\n",
      "train acc: 97.12% |  test acc: 96.50000000000001% |  loss for epoch 43: 0.10614007768464563\n",
      "train acc: 97.1% |  test acc: 96.57% |  loss for epoch 44: 0.10649929976402137\n",
      "train acc: 97.18% |  test acc: 96.46000000000001% |  loss for epoch 45: 0.10130071876669462\n",
      "train acc: 97.08% |  test acc: 96.64% |  loss for epoch 46: 0.10205538551870945\n",
      "train acc: 97.19% |  test acc: 96.58% |  loss for epoch 47: 0.10058312420516659\n",
      "train acc: 97.28% |  test acc: 96.67% |  loss for epoch 48: 0.09457348640524066\n",
      "train acc: 97.28% |  test acc: 96.61000000000001% |  loss for epoch 49: 0.09706947124660038\n",
      "train acc: 97.46% |  test acc: 96.69000000000001% |  loss for epoch 50: 0.09118558048755683\n",
      "train acc: 97.34% |  test acc: 96.72% |  loss for epoch 51: 0.0926926117426176\n",
      "train acc: 97.51% |  test acc: 96.81% |  loss for epoch 52: 0.09145823988020328\n",
      "train acc: 97.49% |  test acc: 96.91000000000001% |  loss for epoch 53: 0.08887378714770457\n",
      "train acc: 97.49% |  test acc: 96.84% |  loss for epoch 54: 0.08929267721125023\n",
      "train acc: 97.63% |  test acc: 96.89000000000001% |  loss for epoch 55: 0.08718520294371632\n",
      "train acc: 97.73% |  test acc: 96.82000000000001% |  loss for epoch 56: 0.08350787823719412\n",
      "train acc: 97.80% |  test acc: 96.94% |  loss for epoch 57: 0.07828255908107051\n",
      "train acc: 97.78% |  test acc: 96.92% |  loss for epoch 58: 0.08051348991055206\n",
      "train acc: 97.83% |  test acc: 96.97% |  loss for epoch 59: 0.07854656414981631\n",
      "train acc: 97.78% |  test acc: 96.93% |  loss for epoch 60: 0.07860922026157023\n",
      "train acc: 97.98% |  test acc: 96.95% |  loss for epoch 61: 0.07477819804782149\n",
      "train acc: 97.99% |  test acc: 96.99000000000001% |  loss for epoch 62: 0.07358172025766782\n",
      "train acc: 97.97% |  test acc: 97.11000000000001% |  loss for epoch 63: 0.07440914628982224\n",
      "train acc: 98.11% |  test acc: 97.15% |  loss for epoch 64: 0.06893842163802034\n",
      "train acc: 97.92% |  test acc: 97.06% |  loss for epoch 65: 0.07358011779093364\n",
      "train acc: 97.97% |  test acc: 97.10000000000001% |  loss for epoch 66: 0.0719151662027593\n",
      "train acc: 98.14% |  test acc: 97.11000000000001% |  loss for epoch 67: 0.06796934314799523\n",
      "train acc: 98.07% |  test acc: 97.16% |  loss for epoch 68: 0.0698723523514055\n",
      "train acc: 98.13% |  test acc: 97.26% |  loss for epoch 69: 0.06834616481477127\n",
      "train acc: 98.22% |  test acc: 97.14% |  loss for epoch 70: 0.06767901340646133\n",
      "train acc: 98.17% |  test acc: 97.2% |  loss for epoch 71: 0.06597293528359388\n",
      "train acc: 98.17% |  test acc: 97.23% |  loss for epoch 72: 0.06579537012422669\n",
      "train acc: 98.20% |  test acc: 97.25% |  loss for epoch 73: 0.06492761637325654\n",
      "train acc: 98.27% |  test acc: 97.24000000000001% |  loss for epoch 74: 0.06323485773041258\n",
      "train acc: 98.31% |  test acc: 97.15% |  loss for epoch 75: 0.06253563525049081\n",
      "train acc: 98.27% |  test acc: 97.33000000000001% |  loss for epoch 76: 0.06245245927308736\n",
      "train acc: 98.45% |  test acc: 97.30000000000001% |  loss for epoch 77: 0.05867019181513116\n",
      "train acc: 98.33% |  test acc: 97.4% |  loss for epoch 78: 0.05983950209210808\n",
      "train acc: 98.35% |  test acc: 97.32000000000001% |  loss for epoch 79: 0.0585218838465344\n",
      "train acc: 98.49% |  test acc: 97.38% |  loss for epoch 80: 0.056678879981966496\n",
      "train acc: 98.48% |  test acc: 97.45% |  loss for epoch 81: 0.058483417293881707\n",
      "train acc: 98.41% |  test acc: 97.46000000000001% |  loss for epoch 82: 0.0596345578570331\n",
      "train acc: 98.50% |  test acc: 97.48% |  loss for epoch 83: 0.05599222976907247\n",
      "train acc: 98.52% |  test acc: 97.46000000000001% |  loss for epoch 84: 0.05519164180321963\n",
      "train acc: 98.47% |  test acc: 97.45% |  loss for epoch 85: 0.05543517113557063\n",
      "train acc: 98.52% |  test acc: 97.44% |  loss for epoch 86: 0.05547145125069702\n",
      "train acc: 98.48% |  test acc: 97.56% |  loss for epoch 87: 0.05574458224458676\n",
      "train acc: 98.56% |  test acc: 97.45% |  loss for epoch 88: 0.05405222058412986\n",
      "train acc: 98.62% |  test acc: 97.47% |  loss for epoch 89: 0.051401217057800146\n",
      "train acc: 98.70% |  test acc: 97.58% |  loss for epoch 90: 0.04987485640335186\n",
      "train acc: 98.61% |  test acc: 97.58% |  loss for epoch 91: 0.05134383924125708\n",
      "train acc: 98.72% |  test acc: 97.57000000000001% |  loss for epoch 92: 0.05086859238399483\n",
      "train acc: 98.64% |  test acc: 97.58% |  loss for epoch 93: 0.050592012765994385\n",
      "train acc: 98.64% |  test acc: 97.63000000000001% |  loss for epoch 94: 0.04971161467557507\n",
      "train acc: 98.75% |  test acc: 97.66% |  loss for epoch 95: 0.04920817021789793\n",
      "train acc: 98.7% |  test acc: 97.66% |  loss for epoch 96: 0.04890876529613657\n"
     ]
    },
    {
     "name": "stdout",
     "output_type": "stream",
     "text": [
      "train acc: 98.85% |  test acc: 97.64% |  loss for epoch 97: 0.045811254738928775\n",
      "train acc: 98.82% |  test acc: 97.63000000000001% |  loss for epoch 98: 0.04575073510464793\n",
      "train acc: 98.86% |  test acc: 97.62% |  loss for epoch 99: 0.04464491731440326\n"
     ]
    },
    {
     "data": {
      "image/png": "[encoded data removed]",
      "text/plain": [
       "<Figure size 432x288 with 1 Axes>"
      ]
     },
     "metadata": {
      "needs_background": "light"
     },
     "output_type": "display_data"
    },
    {
     "data": {
      "image/png": "[encoded data removed]",
      "text/plain": [
       "<Figure size 432x288 with 1 Axes>"
      ]
     },
     "metadata": {
      "needs_background": "light"
     },
     "output_type": "display_data"
    }
   ],
   "source": [
    "\n",
    "\n",
    "# You should be able to receive at least 97% accuracy, choose hyperparameters accordingly.\n",
    "\n",
    "epochs = 100\n",
    "mini_batch_size = 100\n",
    "learning_rate = 1e-3\n",
    "num_hidden_cells = 300\n",
    "\n",
    "def Train(epochs_num, batch_size, lr, H):\n",
    "    #  Dividing a dataset into training data and test data\n",
    "\n",
    "    (x_train, t_train), (x_test, t_test) = load_mnist(normalize=True, one_hot_label=True)\n",
    "    C=10\n",
    "    D=x_train.shape[1]\n",
    "    network_params = TwoLayerNet(input_size=D, hidden_size=H, output_size=C) #hidden_size is the only hyperparameter here\n",
    "\n",
    "    train_size = x_train.shape[0]\n",
    "    train_loss_list = []\n",
    "    train_acc_list = []\n",
    "    test_acc_list = []\n",
    "    iter_per_epoch = round(train_size / batch_size)\n",
    "    \n",
    "    print('training of ' + str(epochs_num) +' epochs, each epoch will have '+ str(iter_per_epoch)+ ' iterations')\n",
    "    for i in range(epochs_num):\n",
    "    \n",
    "        train_loss_iter= []\n",
    "        train_acc_iter= []\n",
    "\n",
    "        for k in range(iter_per_epoch):\n",
    "            \n",
    "            #############################################################################\n",
    "            #                             YOUR CODE                                     #\n",
    "            #############################################################################               \n",
    "            # 1. Select part of training data (mini-batch) randomly\n",
    "            N = np.shape(x_train)[0]        \n",
    "            rand_idx = np.random.randint(low =0, high=N-1, size=batch_size)\n",
    "            x_batch = x_train[rand_idx,:]\n",
    "            t_batch = t_train[rand_idx,:]\n",
    "                        \n",
    "            # 2. Calculate the predictions and the gradients to reduce the value of the loss function\n",
    "            \n",
    "            grads , y_batch = Model(network_params,x_batch,t_batch)\n",
    "            \n",
    "            # 3. Update weights and biases with the gradients \n",
    "            \n",
    "            network_params['W1'] -= lr * grads['W1']\n",
    "            network_params['W2'] -= lr * grads['W2']\n",
    "            network_params['b1'] -= lr * grads['b1']\n",
    "            network_params['b2'] -= lr * grads['b2']\n",
    "            \n",
    "            #############################################################################\n",
    "            #                             END OF YOUR CODE                              #\n",
    "            #############################################################################            \n",
    "        \n",
    "            # Calculate the loss and accuracy for visalizaton \n",
    "\n",
    "            error=cross_entropy_error(y_batch, t_batch)\n",
    "            train_loss_iter.append(error)\n",
    "            acc_iter=accuracy(y_batch, t_batch)\n",
    "            train_acc_iter.append(acc_iter)\n",
    "            if k == iter_per_epoch-1:\n",
    "                train_acc = np.mean(train_acc_iter)\n",
    "                train_acc_list.append(train_acc)\n",
    "                train_loss_list.append(np.mean(train_loss_iter))\n",
    "\n",
    "                _, y_test = Model(network_params, x_test, t_test)\n",
    "                test_acc = accuracy(y_test, t_test)\n",
    "                test_acc_list.append(test_acc)\n",
    "                print(\"train acc: \" + str(train_acc)[:5] + \"% |  test acc: \"   + str(test_acc) + \"% |  loss for epoch \" + str(i) +\": \"+ str(np.mean(train_loss_iter)))\n",
    "    return train_acc_list, test_acc_list, train_loss_list, network_params\n",
    "\n",
    "train_acc, test_acc, train_loss, net_params = Train(epochs, mini_batch_size, learning_rate, num_hidden_cells)\n",
    "\n",
    "markers = {'train': 'o', 'test': 's'}\n",
    "x = np.arange(len(train_acc))\n",
    "plt.plot(x, train_acc, label='train acc')\n",
    "plt.plot(x, test_acc, label='test acc', linestyle='--')\n",
    "plt.xlabel(\"epochs\")\n",
    "plt.ylabel(\"accuracy\")\n",
    "plt.legend(loc='lower right')\n",
    "plt.show()\n",
    "\n",
    "\n",
    "markers = {'train': 'o'}\n",
    "x = np.arange(len(train_loss))\n",
    "plt.plot(x, train_loss, label='train loss')\n",
    "plt.xlabel(\"epochs\")\n",
    "plt.ylabel(\"Loss\")\n",
    "plt.legend(loc='lower right')\n",
    "plt.show()\n"
   ]
  },
  {
   "cell_type": "markdown",
   "metadata": {},
   "source": [
    "# You should be able to receive at least 97% accuracy, choose hyperparameters accordingly.\n"
   ]
  },
  {
   "cell_type": "markdown",
   "metadata": {},
   "source": [
    "QUESTION 2: Explain the results looking at the visualizations above, base your answer on the hyperparameters.\n",
    "\n",
    "ANSWER: \n",
    "\n",
    "\n",
    "One can see, the lost is decreasing , while the train and test accuracy is somewhat equal and getting better in each epoch. This implies our network is fine training and no \"over fitting\" accures. \n"
   ]
  },
  {
   "cell_type": "markdown",
   "metadata": {},
   "source": [
    "QUESTION 3: Suggest a way to improve the results by changing the networks's architecture  \n",
    "\n",
    "ANSWER:\n",
    "With Convolutional NN, we can use the spatial information of the images and increase the accuracy.\n",
    "\n"
   ]
  },
  {
   "cell_type": "code",
   "execution_count": 61,
   "metadata": {
    "scrolled": true
   },
   "outputs": [
    {
     "name": "stdout",
     "output_type": "stream",
     "text": [
      "(784, 300)\n"
     ]
    },
    {
     "data": {
      "image/png": "[encoded data removed]",
      "text/plain": [
       "<Figure size 432x288 with 1 Axes>"
      ]
     },
     "metadata": {
      "needs_background": "light"
     },
     "output_type": "display_data"
    },
    {
     "data": {
      "image/png": "[encoded data removed]",
      "text/plain": [
       "<Figure size 432x288 with 1 Axes>"
      ]
     },
     "metadata": {
      "needs_background": "light"
     },
     "output_type": "display_data"
    },
    {
     "data": {
      "image/png": "[encoded data removed]",
      "text/plain": [
       "<Figure size 432x288 with 1 Axes>"
      ]
     },
     "metadata": {
      "needs_background": "light"
     },
     "output_type": "display_data"
    },
    {
     "data": {
      "image/png": "[encoded data removed]",
      "text/plain": [
       "<Figure size 432x288 with 1 Axes>"
      ]
     },
     "metadata": {
      "needs_background": "light"
     },
     "output_type": "display_data"
    },
    {
     "data": {
      "image/png": "[encoded data removed]",
      "text/plain": [
       "<Figure size 432x288 with 1 Axes>"
      ]
     },
     "metadata": {
      "needs_background": "light"
     },
     "output_type": "display_data"
    }
   ],
   "source": [
    "# Visualize some weights. features of digits should be somehow present.\n",
    "def show_net_weights(params):\n",
    "    W1 = params['W1']\n",
    "    print(W1.shape)\n",
    "    for i in range(5):\n",
    "        W = W1[:,i*5].reshape(28, 28)\n",
    "        plt.imshow(W,cmap='gray')\n",
    "        plt.axis('off')\n",
    "        plt.show()\n",
    "\n",
    "show_net_weights(net_params)\n"
   ]
  }
 ],
 "metadata": {
  "kernelspec": {
   "display_name": "Python 3",
   "language": "python",
   "name": "python3"
  },
  "language_info": {
   "codemirror_mode": {
    "name": "ipython",
    "version": 3
   },
   "file_extension": ".py",
   "mimetype": "text/x-python",
   "name": "python",
   "nbconvert_exporter": "python",
   "pygments_lexer": "ipython3",
   "version": "3.6.6"
  }
 },
 "nbformat": 4,
 "nbformat_minor": 2
}
